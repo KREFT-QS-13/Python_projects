{
 "cells": [
  {
   "cell_type": "markdown",
   "metadata": {},
   "source": [
    "# Overview of quanutm gates in Qiskit"
   ]
  },
  {
   "cell_type": "code",
   "execution_count": null,
   "metadata": {},
   "outputs": [],
   "source": [
    "from qiskit import *\n",
    "%matplotlib inline"
   ]
  },
  {
   "cell_type": "markdown",
   "metadata": {},
   "source": [
    "## The Paulis gate: X, Y, Z"
   ]
  },
  {
   "cell_type": "code",
   "execution_count": 32,
   "metadata": {},
   "outputs": [
    {
     "data": {
      "image/png": "[encoded data removed]",
      "text/plain": [
       "<Figure size 240.8x138.46 with 1 Axes>"
      ]
     },
     "execution_count": 32,
     "metadata": {},
     "output_type": "execute_result"
    }
   ],
   "source": [
    "# thier action is to perform a half rotation of the bloch sphere around the x, y and z axes\n",
    "# They might work as a bit-filp\n",
    "# X|0> = |1> And X|1> = |0>\n",
    "circ = QuantumCircuit(1,1)\n",
    "circ.x(0)\n",
    "circ.draw(output='mpl')"
   ]
  },
  {
   "cell_type": "code",
   "execution_count": 33,
   "metadata": {},
   "outputs": [
    {
     "name": "stdout",
     "output_type": "stream",
     "text": [
      "Matrix for X gate:\n",
      " [[0.+0.j 1.+0.j]\n",
      " [1.+0.j 0.+0.j]]\n"
     ]
    }
   ],
   "source": [
    "sim = Aer.get_backend('unitary_simulator')\n",
    "result = execute(circ, backend=sim).result()\n",
    "print(\"Matrix for X gate:\\n {}\".format(result.get_unitary()))"
   ]
  },
  {
   "cell_type": "code",
   "execution_count": 36,
   "metadata": {},
   "outputs": [
    {
     "data": {
      "image/png": "[encoded data removed]",
      "text/plain": [
       "<Figure size 240.8x138.46 with 1 Axes>"
      ]
     },
     "execution_count": 36,
     "metadata": {},
     "output_type": "execute_result"
    }
   ],
   "source": [
    "# Z|+> = |-> And Z|-> = |+>\n",
    "circZ = QuantumCircuit(1,1)\n",
    "circZ.z(0)\n",
    "circZ.draw(output='mpl')"
   ]
  },
  {
   "cell_type": "code",
   "execution_count": 41,
   "metadata": {
    "scrolled": true
   },
   "outputs": [
    {
     "name": "stdout",
     "output_type": "stream",
     "text": [
      "Matrix for Z gate:\n",
      " [[ 1.+0.j  0.+0.j]\n",
      " [ 0.+0.j -1.+0.j]]\n"
     ]
    }
   ],
   "source": [
    "result = execute(circZ, backend=sim).result()\n",
    "print(\"Matrix for Z gate:\\n {}\".format(result.get_unitary()))"
   ]
  },
  {
   "cell_type": "code",
   "execution_count": 42,
   "metadata": {},
   "outputs": [
    {
     "data": {
      "image/png": "[encoded data removed]",
      "text/plain": [
       "<Figure size 240.8x138.46 with 1 Axes>"
      ]
     },
     "execution_count": 42,
     "metadata": {},
     "output_type": "execute_result"
    }
   ],
   "source": [
    "# Y gate\n",
    "circY=QuantumCircuit(1,1)\n",
    "circY.y(0)\n",
    "circY.draw(output='mpl')"
   ]
  },
  {
   "cell_type": "code",
   "execution_count": 43,
   "metadata": {},
   "outputs": [
    {
     "name": "stdout",
     "output_type": "stream",
     "text": [
      "Matrix for Y gate:\n",
      " [[0.+0.j 0.-1.j]\n",
      " [0.+1.j 0.+0.j]]\n"
     ]
    }
   ],
   "source": [
    "result = execute(circY, backend=sim).result()\n",
    "print(\"Matrix for Y gate:\\n {}\".format(result.get_unitary()))"
   ]
  },
  {
   "cell_type": "markdown",
   "metadata": {},
   "source": [
    "## Hadamard gate, S gate and S$^{†}$ gate"
   ]
  },
  {
   "cell_type": "code",
   "execution_count": 48,
   "metadata": {},
   "outputs": [
    {
     "data": {
      "image/png": "[encoded data removed]",
      "text/plain": [
       "<Figure size 240.8x138.46 with 1 Axes>"
      ]
     },
     "execution_count": 48,
     "metadata": {},
     "output_type": "execute_result"
    }
   ],
   "source": [
    "#rotates around an axis located halfway between x and z \n",
    "# H|0> = |+> , H|1> = |-> , H|+> = |0> , H|-> = |1>\n",
    "circH = QuantumCircuit(1,1)\n",
    "circH.h(0)\n",
    "circH.draw(output='mpl')"
   ]
  },
  {
   "cell_type": "code",
   "execution_count": 49,
   "metadata": {},
   "outputs": [
    {
     "name": "stdout",
     "output_type": "stream",
     "text": [
      "Matrix for H gate:\n",
      " [[ 0.70710678+0.j  0.70710678+0.j]\n",
      " [ 0.70710678+0.j -0.70710678+0.j]]\n"
     ]
    }
   ],
   "source": [
    "result = execute(circH, backend=sim).result()\n",
    "print(\"Matrix for H gate:\\n {}\".format(result.get_unitary()))"
   ]
  },
  {
   "cell_type": "code",
   "execution_count": 51,
   "metadata": {},
   "outputs": [
    {
     "data": {
      "image/png": "[encoded data removed]",
      "text/plain": [
       "<Figure size 240.8x138.46 with 1 Axes>"
      ]
     },
     "execution_count": 51,
     "metadata": {},
     "output_type": "execute_result"
    }
   ],
   "source": [
    "# S gate (one possible square root of the Z gate (it turns around the z axis))\n",
    "# S|+⟩ = |↻⟩ , S|−⟩ = |↺⟩ \n",
    "circS = QuantumCircuit(1,1)\n",
    "circS.s(0)\n",
    "circS.draw(output='mpl')"
   ]
  },
  {
   "cell_type": "code",
   "execution_count": 53,
   "metadata": {},
   "outputs": [
    {
     "name": "stdout",
     "output_type": "stream",
     "text": [
      "Matrix for S gate:\n",
      " [[1.+0.j 0.+0.j]\n",
      " [0.+0.j 0.+1.j]]\n"
     ]
    }
   ],
   "source": [
    "result = execute(circS, backend=sim).result()\n",
    "print(\"Matrix for S gate:\\n {}\".format(result.get_unitary()))"
   ]
  },
  {
   "cell_type": "code",
   "execution_count": 55,
   "metadata": {},
   "outputs": [
    {
     "data": {
      "image/png": "[encoded data removed]",
      "text/plain": [
       "<Figure size 240.8x138.46 with 1 Axes>"
      ]
     },
     "execution_count": 55,
     "metadata": {},
     "output_type": "execute_result"
    }
   ],
   "source": [
    "# S† gate (it is S gate but Hermitian transposed (transpone and complex conjugate))\n",
    "# the other possible square root of the Z gate (it turns around the z axis)\n",
    "# S†|↻⟩ = |+⟩ , S†|↺⟩ = |−⟩.\n",
    "circSDG = QuantumCircuit(1,1)\n",
    "circSDG.sdg(0)\n",
    "circSDG.draw(output='mpl')"
   ]
  },
  {
   "cell_type": "code",
   "execution_count": 59,
   "metadata": {},
   "outputs": [
    {
     "name": "stdout",
     "output_type": "stream",
     "text": [
      "Matrix for S† gate:\n",
      " [[1.+0.j 0.+0.j]\n",
      " [0.+0.j 0.-1.j]]\n"
     ]
    }
   ],
   "source": [
    "result = execute(circSDG, backend=sim).result()\n",
    "print(\"Matrix for S† gate:\\n {}\".format(result.get_unitary()))"
   ]
  },
  {
   "cell_type": "markdown",
   "metadata": {},
   "source": [
    "## Other single-qubit gates "
   ]
  },
  {
   "cell_type": "code",
   "execution_count": 65,
   "metadata": {},
   "outputs": [
    {
     "data": {
      "image/png": "[encoded data removed]",
      "text/plain": [
       "<Figure size 240.8x138.46 with 1 Axes>"
      ]
     },
     "execution_count": 65,
     "metadata": {},
     "output_type": "execute_result"
    }
   ],
   "source": [
    "# gates which rotation is done by given angle theta\n",
    "theta = 3.141592/8\n",
    "# Rx rotation\n",
    "circRX = QuantumCircuit(1,1)\n",
    "circRX.rx(theta, 0)\n",
    "circRX.draw(output='mpl')"
   ]
  },
  {
   "cell_type": "code",
   "execution_count": 66,
   "metadata": {},
   "outputs": [
    {
     "name": "stdout",
     "output_type": "stream",
     "text": [
      "Matrix for Rx gate:\n",
      " [[0.98078529+0.j         0.        -0.19509028j]\n",
      " [0.        -0.19509028j 0.98078529+0.j        ]]\n"
     ]
    }
   ],
   "source": [
    "result = execute(circRX, backend=sim).result()\n",
    "print(\"Matrix for Rx gate:\\n {}\".format(result.get_unitary()))"
   ]
  },
  {
   "cell_type": "code",
   "execution_count": 69,
   "metadata": {},
   "outputs": [
    {
     "data": {
      "image/png": "[encoded data removed]",
      "text/plain": [
       "<Figure size 240.8x138.46 with 1 Axes>"
      ]
     },
     "execution_count": 69,
     "metadata": {},
     "output_type": "execute_result"
    }
   ],
   "source": [
    "# Ry rotation\n",
    "circRY = QuantumCircuit(1,1)\n",
    "circRY.ry(theta, 0)\n",
    "circRY.draw(output='mpl')"
   ]
  },
  {
   "cell_type": "code",
   "execution_count": 70,
   "metadata": {},
   "outputs": [
    {
     "name": "stdout",
     "output_type": "stream",
     "text": [
      "Matrix for Ry gate:\n",
      " [[ 0.98078529+0.j -0.19509028+0.j]\n",
      " [ 0.19509028+0.j  0.98078529+0.j]]\n"
     ]
    }
   ],
   "source": [
    "result = execute(circRY, backend=sim).result()\n",
    "print(\"Matrix for Ry gate:\\n {}\".format(result.get_unitary()))"
   ]
  },
  {
   "cell_type": "code",
   "execution_count": 71,
   "metadata": {},
   "outputs": [
    {
     "data": {
      "image/png": "[encoded data removed]",
      "text/plain": [
       "<Figure size 240.8x138.46 with 1 Axes>"
      ]
     },
     "execution_count": 71,
     "metadata": {},
     "output_type": "execute_result"
    }
   ],
   "source": [
    "# Rz rotation\n",
    "circRZ = QuantumCircuit(1,1)\n",
    "circRZ.rz(theta, 0)\n",
    "circRZ.draw(output='mpl')"
   ]
  },
  {
   "cell_type": "code",
   "execution_count": 72,
   "metadata": {},
   "outputs": [
    {
     "name": "stdout",
     "output_type": "stream",
     "text": [
      "Matrix for Rz gate:\n",
      " [[1.        +0.j         0.        +0.j        ]\n",
      " [0.        +0.j         0.92387956+0.38268336j]]\n"
     ]
    }
   ],
   "source": [
    "result = execute(circRZ, backend=sim).result()\n",
    "print(\"Matrix for Rz gate:\\n {}\".format(result.get_unitary()))"
   ]
  },
  {
   "cell_type": "markdown",
   "metadata": {},
   "source": [
    "**Two specific examples of Rz(θ) have their own names: those for θ=±π/4.These are the square roots of S, and are known as T and T$^{†}$**"
   ]
  },
  {
   "cell_type": "code",
   "execution_count": 73,
   "metadata": {},
   "outputs": [
    {
     "data": {
      "image/png": "[encoded data removed]",
      "text/plain": [
       "<Figure size 240.8x138.46 with 1 Axes>"
      ]
     },
     "execution_count": 73,
     "metadata": {},
     "output_type": "execute_result"
    }
   ],
   "source": [
    "# T gate\n",
    "circT = QuantumCircuit(1,1)\n",
    "circT.t(0)\n",
    "circT.draw(output='mpl')"
   ]
  },
  {
   "cell_type": "code",
   "execution_count": 74,
   "metadata": {},
   "outputs": [
    {
     "name": "stdout",
     "output_type": "stream",
     "text": [
      "Matrix for T gate:\n",
      " [[1.        +0.j         0.        +0.j        ]\n",
      " [0.        +0.j         0.70710678+0.70710678j]]\n"
     ]
    }
   ],
   "source": [
    "result = execute(circT, backend=sim).result()\n",
    "print(\"Matrix for T gate:\\n {}\".format(result.get_unitary()))"
   ]
  },
  {
   "cell_type": "code",
   "execution_count": 76,
   "metadata": {},
   "outputs": [
    {
     "data": {
      "image/png": "[encoded data removed]",
      "text/plain": [
       "<Figure size 240.8x138.46 with 1 Axes>"
      ]
     },
     "execution_count": 76,
     "metadata": {},
     "output_type": "execute_result"
    }
   ],
   "source": [
    "# T† gate\n",
    "circTDG = QuantumCircuit(1,1)\n",
    "circTDG.tdg(0)\n",
    "circTDG.draw(output='mpl')"
   ]
  },
  {
   "cell_type": "code",
   "execution_count": 77,
   "metadata": {},
   "outputs": [
    {
     "name": "stdout",
     "output_type": "stream",
     "text": [
      "Matrix for T† gate:\n",
      " [[1.        +0.j         0.        +0.j        ]\n",
      " [0.        +0.j         0.70710678-0.70710678j]]\n"
     ]
    }
   ],
   "source": [
    "result = execute(circTDG, backend=sim).result()\n",
    "print(\"Matrix for T† gate:\\n {}\".format(result.get_unitary()))"
   ]
  },
  {
   "cell_type": "markdown",
   "metadata": {},
   "source": [
    "# Qunatum gate summarize\n",
    "\n",
    "$\\text{1) X gate (turns around X axis by $\\theta$ = $\\pi$): X = }\n",
    " \\begin{bmatrix}\n",
    "  0 & 1 \\\\\n",
    "  1 & 0 \\\\\n",
    " \\end{bmatrix}$\n",
    "\n",
    "$\\text{2) Y gate (turns around Y axis by $\\theta$ = $\\pi$): Y = } \n",
    " \\begin{bmatrix}\n",
    "  0 & -i \\\\\n",
    "  i & 0 \\\\\n",
    " \\end{bmatrix}$\n",
    "\n",
    "$\\text{3) Z gate (turns around Z axis by $\\theta$ = $\\pi$): Z = }\n",
    " \\begin{bmatrix}\n",
    "  1 & 0 \\\\\n",
    "  0 & -1 \\\\\n",
    " \\end{bmatrix}$\n",
    "\n",
    "$\\text{4) Hadamard gate: H = \\frac{1}{\\sqrt{2}} }\n",
    " \\begin{bmatrix}\n",
    "  1 & 1 \\\\\n",
    "  1 & -1 \\\\\n",
    " \\end{bmatrix}$\n",
    "\n",
    "$\\text{5) S gate: S = }\n",
    " \\begin{bmatrix}\n",
    "  1 & 0 \\\\\n",
    "  0 & i \\\\\n",
    " \\end{bmatrix}$\n",
    "\n",
    "$\\text{6) S$^{†}$ gate: S^{†} = }\n",
    " \\begin{bmatrix}\n",
    "  1 & 0 \\\\\n",
    "  0 & -i \\\\\n",
    " \\end{bmatrix}$\n",
    " \n",
    "$\\text{7) Rx gate (turns around X axis by given $\\theta$): Rx = }\n",
    " \\begin{bmatrix}\n",
    "  \\cos{\\frac{\\theta}{2}} & -i\\sin{\\frac{\\theta}{2}} \\\\\n",
    "  -i\\sin{\\frac{\\theta}{2}} & \\cos{\\frac{\\theta}{2}} \\\\\n",
    " \\end{bmatrix}$\n",
    " \n",
    "$\\text{8) Ry gate (turns around Y axis by given $\\theta$): Ry = }\n",
    " \\begin{bmatrix}\n",
    "  \\cos{\\frac{\\theta}{2}} & sin{\\frac{\\theta}{2}} \\\\\n",
    "  -\\sin{\\frac{\\theta}{2}} & \\cos{\\frac{\\theta}{2}} \\\\\n",
    " \\end{bmatrix}$\n",
    "\n",
    "$\\text{9) Rz gate (turns around Z axis by given $\\theta$): Rz = }\n",
    " \\begin{bmatrix}\n",
    "  e^{\\frac{i\\theta}{2}} & 0 \\\\\n",
    "  0 & e^{\\frac{-i\\theta}{2}} \\\\\n",
    " \\end{bmatrix}$\n",
    " \n",
    "$\\text{10) T gate: T = }\n",
    " \\begin{bmatrix}\n",
    "  1 & 0 \\\\\n",
    "  0 & e^{\\frac{i\\pi}{4}} \\\\\n",
    " \\end{bmatrix}$\n",
    "\n",
    "$\\text{11) T$^{†}$ gate: T^{†} = }\n",
    " \\begin{bmatrix}\n",
    "  1 & 0 \\\\\n",
    "  0 & e^{\\frac{-i\\pi}{4}} \\\\\n",
    " \\end{bmatrix}$"
   ]
  }
 ],
 "metadata": {
  "kernelspec": {
   "display_name": "Python 3",
   "language": "python",
   "name": "python3"
  },
  "language_info": {
   "codemirror_mode": {
    "name": "ipython",
    "version": 3
   },
   "file_extension": ".py",
   "mimetype": "text/x-python",
   "name": "python",
   "nbconvert_exporter": "python",
   "pygments_lexer": "ipython3",
   "version": "3.7.3"
  }
 },
 "nbformat": 4,
 "nbformat_minor": 2
}
